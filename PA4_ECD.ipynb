{
 "cells": [
  {
   "cell_type": "markdown",
   "id": "88bf1e0b",
   "metadata": {},
   "source": [
    "# Programming Assignment 4\n",
    "## Created by Eli Dalton  -  Version 1\n",
    "## CS-150-02  -  Computer Programming for the Liberal Arts\n",
    "## Fall 2021"
   ]
  },
  {
   "cell_type": "markdown",
   "id": "9d96e7af",
   "metadata": {},
   "source": [
    "### Section a:"
   ]
  },
  {
   "cell_type": "code",
   "execution_count": 33,
   "id": "a06a973e",
   "metadata": {},
   "outputs": [],
   "source": [
    "list1 = [12,31,\"Wilbur\",501,29,31,20,2001,312]"
   ]
  },
  {
   "cell_type": "markdown",
   "id": "80bf22e6",
   "metadata": {},
   "source": [
    "#### i. The `append()` function adds only one element to the end of a list. It does not change any existing element in the list."
   ]
  },
  {
   "cell_type": "code",
   "execution_count": 34,
   "id": "c901817c",
   "metadata": {},
   "outputs": [
    {
     "name": "stdout",
     "output_type": "stream",
     "text": [
      "[12, 31, 'Wilbur', 501, 29, 31, 20, 2001, 312, 'dog']\n"
     ]
    }
   ],
   "source": [
    "list1.append(\"dog\")\n",
    "print(list1)"
   ]
  },
  {
   "cell_type": "markdown",
   "id": "68976456",
   "metadata": {},
   "source": [
    "#### ii. The `extend()` function adds an iterable, such as a list, tuple, or string to the end of the original list."
   ]
  },
  {
   "cell_type": "code",
   "execution_count": 35,
   "id": "b325e462",
   "metadata": {},
   "outputs": [
    {
     "name": "stdout",
     "output_type": "stream",
     "text": [
      "[12, 31, 'Wilbur', 501, 29, 31, 20, 2001, 312, 'dog', 89, 'cat', 2021, 312]\n"
     ]
    }
   ],
   "source": [
    "list2 = [89,\"cat\", 2021, 312]\n",
    "list1.extend(list2)\n",
    "print(list1)"
   ]
  },
  {
   "cell_type": "markdown",
   "id": "8439ab16",
   "metadata": {},
   "source": [
    "#### iii. The `insert()` function inserts an element into the list at the specified index. It does not replace any element"
   ]
  },
  {
   "cell_type": "code",
   "execution_count": 36,
   "id": "3a01bca8",
   "metadata": {},
   "outputs": [
    {
     "name": "stdout",
     "output_type": "stream",
     "text": [
      "[12, 31, 'Wilbur', 501, 29, 'pig', 31, 20, 2001, 312, 'dog', 89, 'cat', 2021, 312]\n"
     ]
    }
   ],
   "source": [
    "list1.insert(5, \"pig\")\n",
    "print(list1)"
   ]
  },
  {
   "cell_type": "markdown",
   "id": "f135c217",
   "metadata": {},
   "source": [
    "#### iv. The `remove()` function removes the FIRST matching element in the list."
   ]
  },
  {
   "cell_type": "code",
   "execution_count": 37,
   "id": "7f34d6a7",
   "metadata": {},
   "outputs": [
    {
     "name": "stdout",
     "output_type": "stream",
     "text": [
      "[12, 31, 'Wilbur', 501, 29, 'pig', 31, 20, 2001, 'dog', 89, 'cat', 2021, 312]\n"
     ]
    }
   ],
   "source": [
    "list1.remove(312)\n",
    "print(list1)"
   ]
  },
  {
   "cell_type": "markdown",
   "id": "2d6cc06d",
   "metadata": {},
   "source": [
    "#### v. The `count()` function returns the number of times a specified element appears in the list."
   ]
  },
  {
   "cell_type": "code",
   "execution_count": 38,
   "id": "ebd40c5b",
   "metadata": {},
   "outputs": [
    {
     "data": {
      "text/plain": [
       "1"
      ]
     },
     "execution_count": 38,
     "metadata": {},
     "output_type": "execute_result"
    }
   ],
   "source": [
    "list1.count(\"pig\")"
   ]
  },
  {
   "cell_type": "code",
   "execution_count": 39,
   "id": "816da55d",
   "metadata": {},
   "outputs": [
    {
     "data": {
      "text/plain": [
       "2"
      ]
     },
     "execution_count": 39,
     "metadata": {},
     "output_type": "execute_result"
    }
   ],
   "source": [
    "list1.count(31)"
   ]
  },
  {
   "cell_type": "markdown",
   "id": "8f448e42",
   "metadata": {},
   "source": [
    "#### vi. The `index()` function returns the index of the specified element in the list."
   ]
  },
  {
   "cell_type": "code",
   "execution_count": 40,
   "id": "8e572047",
   "metadata": {},
   "outputs": [
    {
     "data": {
      "text/plain": [
       "8"
      ]
     },
     "execution_count": 40,
     "metadata": {},
     "output_type": "execute_result"
    }
   ],
   "source": [
    "list1.index(2001)"
   ]
  },
  {
   "cell_type": "markdown",
   "id": "67d39e7a",
   "metadata": {},
   "source": [
    "#### vii. The `pop()` function removes the element from the list at the specified index value, and returns the removed element."
   ]
  },
  {
   "cell_type": "code",
   "execution_count": 41,
   "id": "35abf31b",
   "metadata": {},
   "outputs": [
    {
     "data": {
      "text/plain": [
       "2001"
      ]
     },
     "execution_count": 41,
     "metadata": {},
     "output_type": "execute_result"
    }
   ],
   "source": [
    "list1.pop(8)"
   ]
  },
  {
   "cell_type": "code",
   "execution_count": 42,
   "id": "e4d7a598",
   "metadata": {},
   "outputs": [
    {
     "data": {
      "text/plain": [
       "[12, 31, 'Wilbur', 501, 29, 'pig', 31, 20, 'dog', 89, 'cat', 2021, 312]"
      ]
     },
     "execution_count": 42,
     "metadata": {},
     "output_type": "execute_result"
    }
   ],
   "source": [
    "list1"
   ]
  },
  {
   "cell_type": "markdown",
   "id": "91f8dde8",
   "metadata": {},
   "source": [
    "#### viii. The `sorted()` function returns a sorted list of the specified iterable. When left to default it sorts in ascending order. Strings are sorted alphabetically, and numbers are sorted numerically. Note: you cannot sort an iterable that contains both string and numeric values."
   ]
  },
  {
   "cell_type": "code",
   "execution_count": 44,
   "id": "8eabbbf0",
   "metadata": {},
   "outputs": [
    {
     "data": {
      "text/plain": [
       "[3, 23, 45, 56, 87, 94, 126]"
      ]
     },
     "execution_count": 44,
     "metadata": {},
     "output_type": "execute_result"
    }
   ],
   "source": [
    "list3 = [23,45,87,126,3,94,56]\n",
    "sorted(list3)"
   ]
  },
  {
   "cell_type": "markdown",
   "id": "e0b00998",
   "metadata": {},
   "source": [
    "#### ix. The `copy()` function creates a new list of the original list."
   ]
  },
  {
   "cell_type": "code",
   "execution_count": 46,
   "id": "9ac63de3",
   "metadata": {},
   "outputs": [
    {
     "name": "stdout",
     "output_type": "stream",
     "text": [
      "[12, 31, 'Wilbur', 501, 29, 'pig', 31, 20, 'dog', 89, 'cat', 2021, 312]\n"
     ]
    }
   ],
   "source": [
    "newlist = list1.copy()\n",
    "print(newlist)"
   ]
  },
  {
   "cell_type": "markdown",
   "id": "a0085507",
   "metadata": {},
   "source": [
    "#### x. The `clear()` function removes all items from a list."
   ]
  },
  {
   "cell_type": "code",
   "execution_count": 47,
   "id": "128e65e4",
   "metadata": {},
   "outputs": [
    {
     "name": "stdout",
     "output_type": "stream",
     "text": [
      "[23, 45, 87, 126, 3, 94, 56]\n",
      "[]\n"
     ]
    }
   ],
   "source": [
    "print(list3)\n",
    "list3.clear()\n",
    "print(list3)"
   ]
  },
  {
   "cell_type": "markdown",
   "id": "1bdeb2db",
   "metadata": {},
   "source": [
    "#### xi. The `any()` function returns True if any element in an iterable is true, otherwise it returns False. If the iterable object is empty, the any() function will return False."
   ]
  },
  {
   "cell_type": "code",
   "execution_count": 48,
   "id": "ef917596",
   "metadata": {},
   "outputs": [
    {
     "data": {
      "text/plain": [
       "True"
      ]
     },
     "execution_count": 48,
     "metadata": {},
     "output_type": "execute_result"
    }
   ],
   "source": [
    "any(list1)"
   ]
  },
  {
   "cell_type": "code",
   "execution_count": 49,
   "id": "2afd6073",
   "metadata": {},
   "outputs": [
    {
     "data": {
      "text/plain": [
       "False"
      ]
     },
     "execution_count": 49,
     "metadata": {},
     "output_type": "execute_result"
    }
   ],
   "source": [
    "any(list3)"
   ]
  },
  {
   "cell_type": "markdown",
   "id": "3d11bce7",
   "metadata": {},
   "source": [
    "#### xii. The `filter()` function extracts elements from an iterable for which a function returns true."
   ]
  },
  {
   "cell_type": "code",
   "execution_count": 58,
   "id": "0469a3d2",
   "metadata": {},
   "outputs": [
    {
     "name": "stdout",
     "output_type": "stream",
     "text": [
      "[12, 16, 412, 92]\n"
     ]
    }
   ],
   "source": [
    "list4 = [59,12,16,79,785,412,63,92]\n",
    "def even_nums(numbers):\n",
    "    if numbers%2==0:\n",
    "        return True\n",
    "    return False\n",
    "\n",
    "x = filter(even_nums,list4)\n",
    "even_numbers = list(x)\n",
    "print(even_numbers)"
   ]
  },
  {
   "cell_type": "markdown",
   "id": "9531704f",
   "metadata": {},
   "source": [
    "#### xiii. The `list()` function returns a list.\n",
    "* For this example see the previous example for the filter() function\n",
    "* list4 was filtered for even numbers and those even numbers were assigned to the filter x\n",
    "* x was then converted to the list even_numbers using the list() function"
   ]
  },
  {
   "cell_type": "code",
   "execution_count": 55,
   "id": "91297f87",
   "metadata": {},
   "outputs": [
    {
     "data": {
      "text/plain": [
       "[12, 16, 412, 92]"
      ]
     },
     "execution_count": 55,
     "metadata": {},
     "output_type": "execute_result"
    }
   ],
   "source": [
    "even_numbers"
   ]
  },
  {
   "cell_type": "code",
   "execution_count": 56,
   "id": "7e4b11e1",
   "metadata": {},
   "outputs": [
    {
     "data": {
      "text/plain": [
       "list"
      ]
     },
     "execution_count": 56,
     "metadata": {},
     "output_type": "execute_result"
    }
   ],
   "source": [
    "type(even_numbers)"
   ]
  },
  {
   "cell_type": "markdown",
   "id": "ea8c0929",
   "metadata": {},
   "source": [
    "#### xiv. The `map()` function applies a given function to each item of an iterable and retruns an iterator."
   ]
  },
  {
   "cell_type": "code",
   "execution_count": 59,
   "id": "5ebb85c0",
   "metadata": {},
   "outputs": [
    {
     "name": "stdout",
     "output_type": "stream",
     "text": [
      "[205379, 1728, 4096, 493039, 483736625, 69934528, 250047, 778688]\n"
     ]
    }
   ],
   "source": [
    "def nums_cubed(numbers):\n",
    "    return numbers**3\n",
    "\n",
    "y = map(nums_cubed, list4)\n",
    "cubed_numbers = list(y)\n",
    "print(cubed_numbers)"
   ]
  },
  {
   "cell_type": "markdown",
   "id": "cf0449d8",
   "metadata": {},
   "source": [
    "### Section b:"
   ]
  },
  {
   "cell_type": "markdown",
   "id": "d75d2da1",
   "metadata": {},
   "source": [
    "#### i. The `cmp()` function compares two objects (x and y) and returns -1 if x < y, 0 if x = y, and 1 if x > y.\n",
    "* Note: this function does not exist in Python 3\n",
    "* For the sake of example I will attempt to create a similar function below"
   ]
  },
  {
   "cell_type": "code",
   "execution_count": 70,
   "id": "7f592e4a",
   "metadata": {},
   "outputs": [
    {
     "name": "stdout",
     "output_type": "stream",
     "text": [
      "-1\n",
      "1\n",
      "0\n"
     ]
    }
   ],
   "source": [
    "def cmp(x,y):\n",
    "    if x<y:\n",
    "        return -1\n",
    "    elif x==y:\n",
    "        return 0\n",
    "    else:\n",
    "        return 1\n",
    "\n",
    "print(cmp(45,96))\n",
    "print(cmp(26,15))\n",
    "print(cmp(112,112))"
   ]
  },
  {
   "cell_type": "markdown",
   "id": "b2c8e8be",
   "metadata": {},
   "source": [
    "#### ii. The `len()` function returns the number of elements in an object."
   ]
  },
  {
   "cell_type": "code",
   "execution_count": 64,
   "id": "eb9d5d2f",
   "metadata": {},
   "outputs": [
    {
     "data": {
      "text/plain": [
       "8"
      ]
     },
     "execution_count": 64,
     "metadata": {},
     "output_type": "execute_result"
    }
   ],
   "source": [
    "tuple1 = (56,29,841,123,75,21,6,48)\n",
    "len(tuple1)"
   ]
  },
  {
   "cell_type": "markdown",
   "id": "bbd22bc2",
   "metadata": {},
   "source": [
    "#### iii. The `max()` function returns the larges item in an iterable."
   ]
  },
  {
   "cell_type": "code",
   "execution_count": 65,
   "id": "cf31d02d",
   "metadata": {},
   "outputs": [
    {
     "data": {
      "text/plain": [
       "841"
      ]
     },
     "execution_count": 65,
     "metadata": {},
     "output_type": "execute_result"
    }
   ],
   "source": [
    "max(tuple1)"
   ]
  },
  {
   "cell_type": "markdown",
   "id": "2762e01e",
   "metadata": {},
   "source": [
    "#### iv. The `tuple(seq)` function converts a list into a tuple."
   ]
  },
  {
   "cell_type": "code",
   "execution_count": 66,
   "id": "d1055efd",
   "metadata": {},
   "outputs": [
    {
     "name": "stdout",
     "output_type": "stream",
     "text": [
      "[59, 12, 16, 79, 785, 412, 63, 92]\n"
     ]
    }
   ],
   "source": [
    "print(list4)"
   ]
  },
  {
   "cell_type": "code",
   "execution_count": 67,
   "id": "9fd97a24",
   "metadata": {},
   "outputs": [
    {
     "name": "stdout",
     "output_type": "stream",
     "text": [
      "(59, 12, 16, 79, 785, 412, 63, 92)\n"
     ]
    }
   ],
   "source": [
    "tuple2 = tuple(list4)\n",
    "print(tuple2)"
   ]
  },
  {
   "cell_type": "code",
   "execution_count": 68,
   "id": "c0c21060",
   "metadata": {},
   "outputs": [
    {
     "data": {
      "text/plain": [
       "tuple"
      ]
     },
     "execution_count": 68,
     "metadata": {},
     "output_type": "execute_result"
    }
   ],
   "source": [
    "type(tuple2)"
   ]
  }
 ],
 "metadata": {
  "kernelspec": {
   "display_name": "Python 3",
   "language": "python",
   "name": "python3"
  },
  "language_info": {
   "codemirror_mode": {
    "name": "ipython",
    "version": 3
   },
   "file_extension": ".py",
   "mimetype": "text/x-python",
   "name": "python",
   "nbconvert_exporter": "python",
   "pygments_lexer": "ipython3",
   "version": "3.8.8"
  }
 },
 "nbformat": 4,
 "nbformat_minor": 5
}
